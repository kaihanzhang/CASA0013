{
 "cells": [
  {
   "cell_type": "code",
   "execution_count": 1,
   "id": "c118536f-7198-4af5-86d9-124f727551fa",
   "metadata": {},
   "outputs": [
    {
     "name": "stdout",
     "output_type": "stream",
     "text": [
      "False\n"
     ]
    }
   ],
   "source": [
    "s1={'cherry','orange','banana','tomato'}\n",
    "s2={'potato','celery','carrot','tomato'}\n",
    "print('potato'in s1)"
   ]
  },
  {
   "cell_type": "code",
   "execution_count": 15,
   "id": "cc047d62-ec4e-42f1-bb10-23a8b071bb24",
   "metadata": {},
   "outputs": [
    {
     "name": "stdout",
     "output_type": "stream",
     "text": [
      "True\n",
      "False\n"
     ]
    }
   ],
   "source": [
    "import re\n",
    "pattern1='cat'\n",
    "pattern2='bird'\n",
    "string='dogs rans to cats'\n",
    "print(pattern1 in string)\n",
    "print(pattern2 in string)"
   ]
  },
  {
   "cell_type": "code",
   "execution_count": 11,
   "id": "e329ed49-48e9-40e6-8760-8f00f7d92da0",
   "metadata": {},
   "outputs": [
    {
     "name": "stdout",
     "output_type": "stream",
     "text": [
      "could not find\n"
     ]
    }
   ],
   "source": [
    "if re.search(pattern2,string):\n",
    "    print('match')\n",
    "else:\n",
    "    print('could not find')"
   ]
  },
  {
   "cell_type": "code",
   "execution_count": 22,
   "id": "0094075d-8dfd-434f-8c92-f8b71936eba3",
   "metadata": {},
   "outputs": [
    {
     "name": "stdout",
     "output_type": "stream",
     "text": [
      "<re.Match object; span=(5, 8), match='ran'>\n",
      "<re.Match object; span=(5, 8), match='ran'>\n"
     ]
    }
   ],
   "source": [
    "ptn=\"r[au]n\"\n",
    "print(re.search(ptn,string))\n",
    "print(re.search(\"r[a-z]n\",\"dogs rans to cats\"))"
   ]
  },
  {
   "cell_type": "code",
   "execution_count": 40,
   "id": "093d9e25-bd84-4d18-95fe-ad0dc66a5870",
   "metadata": {},
   "outputs": [
    {
     "name": "stdout",
     "output_type": "stream",
     "text": [
      "hello world \n",
      "my name is elvis\n",
      "mymynjsnjd\n",
      "<re.Match object; span=(13, 15), match='my'>\n"
     ]
    }
   ],
   "source": [
    "string1=\"hello world \\nmy name is elvis\\nmymynjsnjd\"\n",
    "print(string1)\n",
    "print(re.search(r\"my*\",string1,flags=re.M))"
   ]
  },
  {
   "cell_type": "code",
   "execution_count": 60,
   "id": "dabd4f40-c98c-4680-89ab-61cffc6c0191",
   "metadata": {},
   "outputs": [
    {
     "name": "stdout",
     "output_type": "stream",
     "text": [
      "<re.Match object; span=(0, 6), match='abbbbb'>\n"
     ]
    }
   ],
   "source": [
    "print(re.search('ab{2,10}','abbbbb'))"
   ]
  },
  {
   "cell_type": "code",
   "execution_count": 68,
   "id": "bd4d1e1d-e993-40c3-b876-3fa16ae347e2",
   "metadata": {},
   "outputs": [
    {
     "name": "stdout",
     "output_type": "stream",
     "text": [
      "<re.Match object; span=(4, 9), match='r4nms'>\n",
      "<re.Match object; span=(0, 3), match='run'>\n"
     ]
    }
   ],
   "source": [
    "print(re.search('r\\dnms','run,r4nms'))\n",
    "print(re.search('r\\Dn','run,r4nms'))   #\\d匹配所有数字 \\D匹配所有字母"
   ]
  },
  {
   "cell_type": "markdown",
   "id": "610135cf-11fb-4592-a97d-4207d77daa42",
   "metadata": {},
   "source": [
    "### 所有字母数字和“_”\n"
   ]
  },
  {
   "cell_type": "code",
   "execution_count": 73,
   "id": "7e8db0e8-2dd8-4346-8594-bb80493e26bb",
   "metadata": {},
   "outputs": [
    {
     "name": "stdout",
     "output_type": "stream",
     "text": [
      "<re.Match object; span=(0, 3), match='rnn'>\n",
      "<re.Match object; span=(8, 11), match='r\\nn'>\n"
     ]
    }
   ],
   "source": [
    "# \\w [0-9 a-z A-Z _]\n",
    "# \\W opposite to the \\w 基本就剩一些特殊符号了\n",
    "print(re.search('r\\wn',\"rnn,r4n,ru\\n\"))\n",
    "print(re.search('r\\Wn',\"run,r4n,r\\nn\"))"
   ]
  },
  {
   "cell_type": "markdown",
   "id": "4d0e1118-4975-44aa-bd76-1a164ce56120",
   "metadata": {},
   "source": [
    "### 特殊字符 任意字符"
   ]
  },
  {
   "cell_type": "code",
   "execution_count": 83,
   "id": "ecdb44d4-4e41-4d08-a70f-722047aabde8",
   "metadata": {},
   "outputs": [
    {
     "name": "stdout",
     "output_type": "stream",
     "text": [
      "<re.Match object; span=(4, 5), match='\\n'>\n",
      "<re.Match object; span=(0, 3), match='r-n'>\n",
      "<re.Match object; span=(0, 3), match='r[n'>\n"
     ]
    }
   ],
   "source": [
    "# \\\\ match \\\n",
    "print(re.search('\\\\n','rwws\\nwewew'))\n",
    "# . match anything except \\n 换行符 几乎啥都能匹配 括号减号之类\n",
    "print(re.search('r.n',\"r-nsjsj\"))\n",
    "print(re.search('r.n',\"r[nsjsj]\"))"
   ]
  },
  {
   "cell_type": "markdown",
   "id": "9d9b993d-9417-4c5b-b4f6-35fdad34796d",
   "metadata": {},
   "source": [
    "### 句首句尾"
   ]
  },
  {
   "cell_type": "code",
   "execution_count": 87,
   "id": "19a5e5d0-af0c-42bf-9ef0-95ecfcd7ca24",
   "metadata": {},
   "outputs": [
    {
     "name": "stdout",
     "output_type": "stream",
     "text": [
      "<re.Match object; span=(0, 3), match='run'>\n",
      "<re.Match object; span=(11, 15), match='cats'>\n"
     ]
    }
   ],
   "source": [
    "# ^只有在句首才能匹配到 \n",
    "# $ 只有在句尾才能匹配到  +表示出现1或多次  *表示0或多次\n",
    "print(re.search('^run','run to the cats'))\n",
    "print(re.search('cats$','run to the cats'))"
   ]
  },
  {
   "cell_type": "markdown",
   "id": "3c26be83-5a34-4de4-aea8-3a6101186c9c",
   "metadata": {},
   "source": [
    "### Group match \n",
    "\n"
   ]
  },
  {
   "cell_type": "code",
   "execution_count": 120,
   "id": "818dcb88-25a6-495a-a1c4-a0e23e4b1bb7",
   "metadata": {},
   "outputs": [
    {
     "name": "stdout",
     "output_type": "stream",
     "text": [
      "001842232, Date: Feb/02/28\n",
      "001842232\n",
      " Feb/02/28\n"
     ]
    }
   ],
   "source": [
    "a = re.search('(\\d+), Date:(.+)', \"ID: 001842232, Date: Feb/02/28\")\n",
    "print(a.group())\n",
    "print(a.group(1))\n",
    "print(a.group(2))"
   ]
  },
  {
   "cell_type": "code",
   "execution_count": 132,
   "id": "05937b3c-9813-470f-b2ac-655ffd49cfe1",
   "metadata": {},
   "outputs": [
    {
     "name": "stdout",
     "output_type": "stream",
     "text": [
      "001842232\n",
      "Date: Feb/02/28\n"
     ]
    }
   ],
   "source": [
    "##自己命名group name\n",
    "b = re.search(\"(?P<ID>\\d+), (?P<date>.+)\", \"ID: 001842232, Date: Feb/02/28\")\n",
    "print(b.group('ID'))\n",
    "print(b.group('date'))"
   ]
  },
  {
   "cell_type": "markdown",
   "id": "cb08c34b-1210-4b8f-bf62-98dd27eab4a2",
   "metadata": {},
   "source": [
    "### 寻找所有匹配\n"
   ]
  },
  {
   "cell_type": "code",
   "execution_count": 147,
   "id": "c6645721-6e29-4e99-b9d3-6868b80eb3a7",
   "metadata": {},
   "outputs": [
    {
     "name": "stdout",
     "output_type": "stream",
     "text": [
      "['ran', 'run', 'rxn']\n",
      "['ran', 'run']\n"
     ]
    }
   ],
   "source": [
    "## findall 返回所有值  返回一个列表用于后续loop\n",
    "print(re.findall('r[aux]n', 'ran, run, rxn'))\n",
    "# |: or\n",
    "print(re.findall('ran|run', 'ran,run,rxn, wnsn'))"
   ]
  },
  {
   "cell_type": "markdown",
   "id": "141bacc9-ec6d-41a4-89c7-bb8a51957a09",
   "metadata": {},
   "source": [
    "### 替换\n"
   ]
  },
  {
   "cell_type": "code",
   "execution_count": 141,
   "id": "9947ee32-9a9b-4c9b-9a43-f93af4371696",
   "metadata": {},
   "outputs": [
    {
     "name": "stdout",
     "output_type": "stream",
     "text": [
      "dogs catches to catches cats\n",
      "dogs catchess to catchess cats\n"
     ]
    }
   ],
   "source": [
    "# re.sub() : replace \n",
    "print(re.sub('r[au]n','catches', \"dogs ran to run cats\"))\n",
    "print(re.sub('r[au]n','catches', \"dogs rans to runs cats\")) "
   ]
  },
  {
   "cell_type": "markdown",
   "id": "4b9a3aea-b912-4164-9450-5f15be001321",
   "metadata": {},
   "source": [
    "### 分裂"
   ]
  },
  {
   "cell_type": "code",
   "execution_count": 146,
   "id": "68b2e335-7abb-4686-9be2-3d7c6d649dfb",
   "metadata": {},
   "outputs": [
    {
     "name": "stdout",
     "output_type": "stream",
     "text": [
      "['a', ' b ', '2022', ' xxx']\n",
      "['a', ' b ', '2022', ' xxx', ' 04', '18']\n"
     ]
    }
   ],
   "source": [
    "#re.split() \n",
    "print(re.split(\"[,;]\", \"a, b ;2022, xxx\"))\n",
    "print(re.split(\"[,;\\.]\", \"a, b ;2022, xxx, 04.18\"))  #\\n 防止.被识别成所有值"
   ]
  },
  {
   "cell_type": "markdown",
   "id": "8b9d914b-6289-4fd6-a9cf-9fcab20c7a87",
   "metadata": {},
   "source": [
    "### 综合分析"
   ]
  },
  {
   "cell_type": "code",
   "execution_count": 166,
   "id": "4e097ebe-f75b-4586-82e9-74e9e3e95e91",
   "metadata": {},
   "outputs": [
    {
     "name": "stdout",
     "output_type": "stream",
     "text": [
      "1,000,000\n",
      "<re.Match object; span=(13, 14), match='$'>\n",
      "<re.Match object; span=(14, 16), match='1,'>\n",
      "<re.Match object; span=(14, 20), match='1,000,'>\n"
     ]
    }
   ],
   "source": [
    "import re\n",
    "m=re.search(\"\\$((\\d+,){2,}\\d+)\" ,\"That will be $1,000,000\") # dollar sign has special meaning here to escape that\n",
    "# using back slash to aviod that, here it is a literal dollar sign \n",
    "# \\d+ means one and one more digits\n",
    "print(m.group(1))\n",
    "print(re.search('\\$',\"That will be $1,000,000\" ))\n",
    "print(re.search('(\\d+,)',\"That will be $1,000,000\" ))\n",
    "print(re.search('(\\d+,){2,}',\"That will be $1,000,000\" ))"
   ]
  },
  {
   "cell_type": "code",
   "execution_count": 195,
   "id": "a0019f63-f64f-4bb9-8860-7b73fb99985d",
   "metadata": {},
   "outputs": [
    {
     "name": "stdout",
     "output_type": "stream",
     "text": [
      "<re.Match object; span=(0, 6), match='201323'>\n",
      "['201323', '201423', '789']\n",
      "[]\n",
      "['asdfghjklzxc']\n",
      "['asdfg,sdfg']\n"
     ]
    }
   ],
   "source": [
    "print(re.search('\\d{2,}',\"201323,201423\"))\n",
    "print(re.findall('\\d{2,}',\"201323,201423,789\"))\n",
    "print(re.findall('\\d+',\"asdfghjklzxc\"))\n",
    "print(re.findall('\\D+',\"asdfghjklzxc\"))\n"
   ]
  },
  {
   "cell_type": "markdown",
   "id": "ded42d7b-f769-4139-a9c5-9bf1a1c12e08",
   "metadata": {},
   "source": [
    "## Map function"
   ]
  },
  {
   "cell_type": "code",
   "execution_count": 207,
   "id": "af9ccd0b-128c-4384-bbc7-754189572623",
   "metadata": {},
   "outputs": [
    {
     "name": "stdout",
     "output_type": "stream",
     "text": [
      "[1, 4, 27, 256, 3125, 46656, 823543, 16777216]\n",
      "[1, 4, 27, 256, 3125, 46656, 823543, 16777216]\n"
     ]
    }
   ],
   "source": [
    "l1=[1,2,3,4,5,6,7,8]\n",
    "def func(x):\n",
    "    return x**x\n",
    "print(list(map(func,l1)))\n",
    "## which is  equivalent to the map function \n",
    "print([func(x) for x in l1])   ## no commma "
   ]
  },
  {
   "cell_type": "markdown",
   "id": "bfbbc0f0-fc8e-459e-a46c-73e4f0a5c384",
   "metadata": {},
   "source": [
    "## zip function "
   ]
  },
  {
   "cell_type": "code",
   "execution_count": 218,
   "id": "e1bf1fbf-6852-4ee1-8cad-f62b8226029b",
   "metadata": {},
   "outputs": [
    {
     "name": "stdout",
     "output_type": "stream",
     "text": [
      "[(1, 4), (2, 5), (3, 6)]\n",
      "[(1, 1, 4), (2, 2, 5), (3, 3, 6)]\n",
      "[(1, 1, 4, 4), (2, 2, 5, 5), (3, 3, 6, 6)]\n",
      "2 16\n",
      "4 25\n",
      "6 36\n"
     ]
    }
   ],
   "source": [
    "m=[1,2,3]\n",
    "n=[4,5,6]\n",
    "zip(m,n)\n",
    "print(list(zip(m,n)))\n",
    "print(list(zip(m,m,n)))\n",
    "print(list(zip(m,m,n,n)))  ##either 2 or 3 or 4 arguments here to zip together\n",
    "for i,j in zip(m,n):\n",
    "    print(i*2,j*j)"
   ]
  },
  {
   "cell_type": "markdown",
   "id": "0c6ae7b8-cc6d-4d82-9ddd-7ed9bc827655",
   "metadata": {},
   "source": [
    "## Lamda function"
   ]
  },
  {
   "cell_type": "code",
   "execution_count": 230,
   "id": "50561461-53c5-4daa-8433-a6f9f2f33bd1",
   "metadata": {},
   "outputs": [
    {
     "name": "stdout",
     "output_type": "stream",
     "text": [
      "11\n",
      "11\n"
     ]
    }
   ],
   "source": [
    "def zkh(x,y):\n",
    "    return(x+y)\n",
    "print(zkh(5,6))\n",
    "zkh2=lambda x,y: x+y  ##参数 followed by function 比def函数 少一行代码 不需要再输入return\n",
    "print(zkh2(5,6))"
   ]
  },
  {
   "cell_type": "markdown",
   "id": "4a173258-38c9-4f92-adbb-f75ff104e80a",
   "metadata": {},
   "source": [
    "## Stemming and lemmatization"
   ]
  },
  {
   "cell_type": "code",
   "execution_count": 235,
   "id": "4519e3e4-d718-405b-b3cb-b90293bf3eaa",
   "metadata": {},
   "outputs": [
    {
     "name": "stdout",
     "output_type": "stream",
     "text": [
      "Lemmatization:monkey\n",
      "Lemmatization:city\n",
      "Lemmatization:complexity\n",
      "Lemmatization:Reades\n"
     ]
    }
   ],
   "source": [
    "from nltk.stem import WordNetLemmatizer\n",
    "wnl=WordNetLemmatizer()\n",
    "for w in ['monkeys','cities','complexity','Reades']:\n",
    "    print(f\"Lemmatization:{wnl.lemmatize(w)}\")"
   ]
  },
  {
   "cell_type": "code",
   "execution_count": null,
   "id": "91f7d2aa-370f-4704-b7be-3e2cd52f2482",
   "metadata": {},
   "outputs": [],
   "source": [
    "wnl"
   ]
  },
  {
   "cell_type": "code",
   "execution_count": 72,
   "id": "8d6cbed6-450b-4338-9547-6d79da3d7593",
   "metadata": {},
   "outputs": [
    {
     "data": {
      "text/html": [
       "<div>\n",
       "<style scoped>\n",
       "    .dataframe tbody tr th:only-of-type {\n",
       "        vertical-align: middle;\n",
       "    }\n",
       "\n",
       "    .dataframe tbody tr th {\n",
       "        vertical-align: top;\n",
       "    }\n",
       "\n",
       "    .dataframe thead th {\n",
       "        text-align: right;\n",
       "    }\n",
       "</style>\n",
       "<table border=\"1\" class=\"dataframe\">\n",
       "  <thead>\n",
       "    <tr style=\"text-align: right;\">\n",
       "      <th></th>\n",
       "      <th>name</th>\n",
       "      <th>year</th>\n",
       "      <th>job</th>\n",
       "      <th>nice</th>\n",
       "      <th>index</th>\n",
       "    </tr>\n",
       "  </thead>\n",
       "  <tbody>\n",
       "    <tr>\n",
       "      <th>0</th>\n",
       "      <td>52</td>\n",
       "      <td>98</td>\n",
       "      <td>24</td>\n",
       "      <td>18</td>\n",
       "      <td>0</td>\n",
       "    </tr>\n",
       "    <tr>\n",
       "      <th>1</th>\n",
       "      <td>29</td>\n",
       "      <td>28</td>\n",
       "      <td>35</td>\n",
       "      <td>27</td>\n",
       "      <td>1</td>\n",
       "    </tr>\n",
       "    <tr>\n",
       "      <th>2</th>\n",
       "      <td>98</td>\n",
       "      <td>97</td>\n",
       "      <td>42</td>\n",
       "      <td>59</td>\n",
       "      <td>2</td>\n",
       "    </tr>\n",
       "    <tr>\n",
       "      <th>3</th>\n",
       "      <td>69</td>\n",
       "      <td>84</td>\n",
       "      <td>41</td>\n",
       "      <td>62</td>\n",
       "      <td>3</td>\n",
       "    </tr>\n",
       "    <tr>\n",
       "      <th>4</th>\n",
       "      <td>24</td>\n",
       "      <td>99</td>\n",
       "      <td>24</td>\n",
       "      <td>54</td>\n",
       "      <td>4</td>\n",
       "    </tr>\n",
       "    <tr>\n",
       "      <th>...</th>\n",
       "      <td>...</td>\n",
       "      <td>...</td>\n",
       "      <td>...</td>\n",
       "      <td>...</td>\n",
       "      <td>...</td>\n",
       "    </tr>\n",
       "    <tr>\n",
       "      <th>1195</th>\n",
       "      <td>72</td>\n",
       "      <td>18</td>\n",
       "      <td>94</td>\n",
       "      <td>65</td>\n",
       "      <td>1195</td>\n",
       "    </tr>\n",
       "    <tr>\n",
       "      <th>1196</th>\n",
       "      <td>40</td>\n",
       "      <td>73</td>\n",
       "      <td>42</td>\n",
       "      <td>97</td>\n",
       "      <td>1196</td>\n",
       "    </tr>\n",
       "    <tr>\n",
       "      <th>1197</th>\n",
       "      <td>40</td>\n",
       "      <td>59</td>\n",
       "      <td>23</td>\n",
       "      <td>12</td>\n",
       "      <td>1197</td>\n",
       "    </tr>\n",
       "    <tr>\n",
       "      <th>1198</th>\n",
       "      <td>15</td>\n",
       "      <td>99</td>\n",
       "      <td>56</td>\n",
       "      <td>49</td>\n",
       "      <td>1198</td>\n",
       "    </tr>\n",
       "    <tr>\n",
       "      <th>1199</th>\n",
       "      <td>87</td>\n",
       "      <td>65</td>\n",
       "      <td>17</td>\n",
       "      <td>78</td>\n",
       "      <td>1199</td>\n",
       "    </tr>\n",
       "  </tbody>\n",
       "</table>\n",
       "<p>1200 rows × 5 columns</p>\n",
       "</div>"
      ],
      "text/plain": [
       "      name  year  job  nice  index\n",
       "0       52    98   24    18      0\n",
       "1       29    28   35    27      1\n",
       "2       98    97   42    59      2\n",
       "3       69    84   41    62      3\n",
       "4       24    99   24    54      4\n",
       "...    ...   ...  ...   ...    ...\n",
       "1195    72    18   94    65   1195\n",
       "1196    40    73   42    97   1196\n",
       "1197    40    59   23    12   1197\n",
       "1198    15    99   56    49   1198\n",
       "1199    87    65   17    78   1199\n",
       "\n",
       "[1200 rows x 5 columns]"
      ]
     },
     "execution_count": 72,
     "metadata": {},
     "output_type": "execute_result"
    }
   ],
   "source": [
    "tmp.columns=['name','year','job','nice']\n",
    "tmp['index']=range(len(tmp))\n",
    "tmp"
   ]
  },
  {
   "cell_type": "code",
   "execution_count": 73,
   "id": "3e85fe02-e6e7-4b0f-9065-e9c477c024f0",
   "metadata": {},
   "outputs": [
    {
     "data": {
      "text/html": [
       "<div>\n",
       "<style scoped>\n",
       "    .dataframe tbody tr th:only-of-type {\n",
       "        vertical-align: middle;\n",
       "    }\n",
       "\n",
       "    .dataframe tbody tr th {\n",
       "        vertical-align: top;\n",
       "    }\n",
       "\n",
       "    .dataframe thead th {\n",
       "        text-align: right;\n",
       "    }\n",
       "</style>\n",
       "<table border=\"1\" class=\"dataframe\">\n",
       "  <thead>\n",
       "    <tr style=\"text-align: right;\">\n",
       "      <th></th>\n",
       "      <th>name</th>\n",
       "      <th>year</th>\n",
       "      <th>job</th>\n",
       "      <th>nice</th>\n",
       "    </tr>\n",
       "    <tr>\n",
       "      <th>index</th>\n",
       "      <th></th>\n",
       "      <th></th>\n",
       "      <th></th>\n",
       "      <th></th>\n",
       "    </tr>\n",
       "  </thead>\n",
       "  <tbody>\n",
       "    <tr>\n",
       "      <th>0</th>\n",
       "      <td>52</td>\n",
       "      <td>98</td>\n",
       "      <td>24</td>\n",
       "      <td>18</td>\n",
       "    </tr>\n",
       "    <tr>\n",
       "      <th>1</th>\n",
       "      <td>29</td>\n",
       "      <td>28</td>\n",
       "      <td>35</td>\n",
       "      <td>27</td>\n",
       "    </tr>\n",
       "    <tr>\n",
       "      <th>2</th>\n",
       "      <td>98</td>\n",
       "      <td>97</td>\n",
       "      <td>42</td>\n",
       "      <td>59</td>\n",
       "    </tr>\n",
       "    <tr>\n",
       "      <th>3</th>\n",
       "      <td>69</td>\n",
       "      <td>84</td>\n",
       "      <td>41</td>\n",
       "      <td>62</td>\n",
       "    </tr>\n",
       "    <tr>\n",
       "      <th>4</th>\n",
       "      <td>24</td>\n",
       "      <td>99</td>\n",
       "      <td>24</td>\n",
       "      <td>54</td>\n",
       "    </tr>\n",
       "    <tr>\n",
       "      <th>...</th>\n",
       "      <td>...</td>\n",
       "      <td>...</td>\n",
       "      <td>...</td>\n",
       "      <td>...</td>\n",
       "    </tr>\n",
       "    <tr>\n",
       "      <th>1195</th>\n",
       "      <td>72</td>\n",
       "      <td>18</td>\n",
       "      <td>94</td>\n",
       "      <td>65</td>\n",
       "    </tr>\n",
       "    <tr>\n",
       "      <th>1196</th>\n",
       "      <td>40</td>\n",
       "      <td>73</td>\n",
       "      <td>42</td>\n",
       "      <td>97</td>\n",
       "    </tr>\n",
       "    <tr>\n",
       "      <th>1197</th>\n",
       "      <td>40</td>\n",
       "      <td>59</td>\n",
       "      <td>23</td>\n",
       "      <td>12</td>\n",
       "    </tr>\n",
       "    <tr>\n",
       "      <th>1198</th>\n",
       "      <td>15</td>\n",
       "      <td>99</td>\n",
       "      <td>56</td>\n",
       "      <td>49</td>\n",
       "    </tr>\n",
       "    <tr>\n",
       "      <th>1199</th>\n",
       "      <td>87</td>\n",
       "      <td>65</td>\n",
       "      <td>17</td>\n",
       "      <td>78</td>\n",
       "    </tr>\n",
       "  </tbody>\n",
       "</table>\n",
       "<p>1200 rows × 4 columns</p>\n",
       "</div>"
      ],
      "text/plain": [
       "       name  year  job  nice\n",
       "index                       \n",
       "0        52    98   24    18\n",
       "1        29    28   35    27\n",
       "2        98    97   42    59\n",
       "3        69    84   41    62\n",
       "4        24    99   24    54\n",
       "...     ...   ...  ...   ...\n",
       "1195     72    18   94    65\n",
       "1196     40    73   42    97\n",
       "1197     40    59   23    12\n",
       "1198     15    99   56    49\n",
       "1199     87    65   17    78\n",
       "\n",
       "[1200 rows x 4 columns]"
      ]
     },
     "execution_count": 73,
     "metadata": {},
     "output_type": "execute_result"
    }
   ],
   "source": [
    "tmp.set_index('index',inplace=True)\n",
    "tmp"
   ]
  },
  {
   "cell_type": "code",
   "execution_count": 75,
   "id": "8647cb4d-4430-4d27-9efa-fb01e4c97594",
   "metadata": {},
   "outputs": [
    {
     "ename": "NameError",
     "evalue": "name 'plt' is not defined",
     "output_type": "error",
     "traceback": [
      "\u001b[0;31m---------------------------------------------------------------------------\u001b[0m",
      "\u001b[0;31mNameError\u001b[0m                                 Traceback (most recent call last)",
      "Input \u001b[0;32mIn [75]\u001b[0m, in \u001b[0;36m<cell line: 1>\u001b[0;34m()\u001b[0m\n\u001b[0;32m----> 1\u001b[0m help(\u001b[43mplt\u001b[49m\u001b[38;5;241m.\u001b[39maxvline)\n",
      "\u001b[0;31mNameError\u001b[0m: name 'plt' is not defined"
     ]
    }
   ],
   "source": [
    "\n"
   ]
  },
  {
   "cell_type": "code",
   "execution_count": 77,
   "id": "1af7d8eb-edd4-443a-a0b5-6e83c9341f59",
   "metadata": {},
   "outputs": [
    {
     "name": "stdout",
     "output_type": "stream",
     "text": [
      "Help on function axvline in module matplotlib.pyplot:\n",
      "\n",
      "axvline(x=0, ymin=0, ymax=1, **kwargs)\n",
      "    Add a vertical line across the Axes.\n",
      "    \n",
      "    Parameters\n",
      "    ----------\n",
      "    x : float, default: 0\n",
      "        x position in data coordinates of the vertical line.\n",
      "    \n",
      "    ymin : float, default: 0\n",
      "        Should be between 0 and 1, 0 being the bottom of the plot, 1 the\n",
      "        top of the plot.\n",
      "    \n",
      "    ymax : float, default: 1\n",
      "        Should be between 0 and 1, 0 being the bottom of the plot, 1 the\n",
      "        top of the plot.\n",
      "    \n",
      "    Returns\n",
      "    -------\n",
      "    `~matplotlib.lines.Line2D`\n",
      "    \n",
      "    Other Parameters\n",
      "    ----------------\n",
      "    **kwargs\n",
      "        Valid keyword arguments are `.Line2D` properties, with the\n",
      "        exception of 'transform':\n",
      "    \n",
      "        Properties:\n",
      "        agg_filter: a filter function, which takes a (m, n, 3) float array and a dpi value, and returns a (m, n, 3) array\n",
      "        alpha: scalar or None\n",
      "        animated: bool\n",
      "        antialiased or aa: bool\n",
      "        clip_box: `.Bbox`\n",
      "        clip_on: bool\n",
      "        clip_path: Patch or (Path, Transform) or None\n",
      "        color or c: color\n",
      "        dash_capstyle: `.CapStyle` or {'butt', 'projecting', 'round'}\n",
      "        dash_joinstyle: `.JoinStyle` or {'miter', 'round', 'bevel'}\n",
      "        dashes: sequence of floats (on/off ink in points) or (None, None)\n",
      "        data: (2, N) array or two 1D arrays\n",
      "        drawstyle or ds: {'default', 'steps', 'steps-pre', 'steps-mid', 'steps-post'}, default: 'default'\n",
      "        figure: `.Figure`\n",
      "        fillstyle: {'full', 'left', 'right', 'bottom', 'top', 'none'}\n",
      "        gid: str\n",
      "        in_layout: bool\n",
      "        label: object\n",
      "        linestyle or ls: {'-', '--', '-.', ':', '', (offset, on-off-seq), ...}\n",
      "        linewidth or lw: float\n",
      "        marker: marker style string, `~.path.Path` or `~.markers.MarkerStyle`\n",
      "        markeredgecolor or mec: color\n",
      "        markeredgewidth or mew: float\n",
      "        markerfacecolor or mfc: color\n",
      "        markerfacecoloralt or mfcalt: color\n",
      "        markersize or ms: float\n",
      "        markevery: None or int or (int, int) or slice or list[int] or float or (float, float) or list[bool]\n",
      "        path_effects: `.AbstractPathEffect`\n",
      "        picker: float or callable[[Artist, Event], tuple[bool, dict]]\n",
      "        pickradius: float\n",
      "        rasterized: bool\n",
      "        sketch_params: (scale: float, length: float, randomness: float)\n",
      "        snap: bool or None\n",
      "        solid_capstyle: `.CapStyle` or {'butt', 'projecting', 'round'}\n",
      "        solid_joinstyle: `.JoinStyle` or {'miter', 'round', 'bevel'}\n",
      "        transform: unknown\n",
      "        url: str\n",
      "        visible: bool\n",
      "        xdata: 1D array\n",
      "        ydata: 1D array\n",
      "        zorder: float\n",
      "    \n",
      "    See Also\n",
      "    --------\n",
      "    vlines : Add vertical lines in data coordinates.\n",
      "    axvspan : Add a vertical span (rectangle) across the axis.\n",
      "    axline : Add a line with an arbitrary slope.\n",
      "    \n",
      "    Examples\n",
      "    --------\n",
      "    * draw a thick red vline at *x* = 0 that spans the yrange::\n",
      "    \n",
      "        >>> axvline(linewidth=4, color='r')\n",
      "    \n",
      "    * draw a default vline at *x* = 1 that spans the yrange::\n",
      "    \n",
      "        >>> axvline(x=1)\n",
      "    \n",
      "    * draw a default vline at *x* = .5 that spans the middle half of\n",
      "      the yrange::\n",
      "    \n",
      "        >>> axvline(x=.5, ymin=0.25, ymax=0.75)\n",
      "\n"
     ]
    }
   ],
   "source": [
    "import matplotlib.pyplot as plt\n",
    "help(plt.axvline)"
   ]
  },
  {
   "cell_type": "code",
   "execution_count": 90,
   "id": "2a36580f-c7b7-4a3d-a5f0-5cd6e0afbe09",
   "metadata": {},
   "outputs": [
    {
     "data": {
      "text/plain": [
       "<AxesSubplot:>"
      ]
     },
     "execution_count": 90,
     "metadata": {},
     "output_type": "execute_result"
    },
    {
     "data": {
      "image/png": "[encoded data removed]",
      "text/plain": [
       "<Figure size 432x288 with 1 Axes>"
      ]
     },
     "metadata": {
      "needs_background": "light"
     },
     "output_type": "display_data"
    }
   ],
   "source": [
    "import geopandas as gpd\n",
    "df = pd.DataFrame({'x': [0, 1, 2], 'y': [0, 1, 2], 'z': [0, 1, 2]})\n",
    "a1 = gpd.GeoDataFrame(df,geometry=gpd.points_from_xy(df['x'], df['y']))\n",
    "a1.plot()"
   ]
  },
  {
   "cell_type": "code",
   "execution_count": 91,
   "id": "936e84a7-6e7f-4dc9-af11-e8fb578e7bc9",
   "metadata": {},
   "outputs": [],
   "source": [
    "import pandas as pd\n",
    "df1 = pd.DataFrame({'x': [0, 1, 2], 'y': [0, 1, 2], 'z': [0, 1, 2]})"
   ]
  },
  {
   "cell_type": "code",
   "execution_count": 97,
   "id": "194f7909-4390-4958-8733-c4effa5918c0",
   "metadata": {},
   "outputs": [
    {
     "data": {
      "text/plain": [
       "<AxesSubplot:>"
      ]
     },
     "execution_count": 97,
     "metadata": {},
     "output_type": "execute_result"
    },
    {
     "data": {
      "image/png": "[encoded data removed]",
      "text/plain": [
       "<Figure size 432x288 with 1 Axes>"
      ]
     },
     "metadata": {
      "needs_background": "light"
     },
     "output_type": "display_data"
    }
   ],
   "source": [
    "geometry = gpd.points_from_xy(x=[1, 0], y=[0, 1])\n",
    "geometry = gpd.points_from_xy(df['x'], df['y'], df['z'])\n",
    "gdf = gpd.GeoDataFrame(\n",
    "    df, geometry=gpd.points_from_xy(df['x'], df['y']))\n",
    "gdf.plot()"
   ]
  },
  {
   "cell_type": "code",
   "execution_count": 98,
   "id": "cdffeb46-fd88-43be-91f3-202c9cf16826",
   "metadata": {},
   "outputs": [
    {
     "name": "stdout",
     "output_type": "stream",
     "text": [
      "Help on method scatter in module pandas.plotting._core:\n",
      "\n",
      "scatter(x, y, s=None, c=None, **kwargs) method of pandas.plotting._core.PlotAccessor instance\n",
      "    Create a scatter plot with varying marker point size and color.\n",
      "    \n",
      "    The coordinates of each point are defined by two dataframe columns and\n",
      "    filled circles are used to represent each point. This kind of plot is\n",
      "    useful to see complex correlations between two variables. Points could\n",
      "    be for instance natural 2D coordinates like longitude and latitude in\n",
      "    a map or, in general, any pair of metrics that can be plotted against\n",
      "    each other.\n",
      "    \n",
      "    Parameters\n",
      "    ----------\n",
      "    x : int or str\n",
      "        The column name or column position to be used as horizontal\n",
      "        coordinates for each point.\n",
      "    y : int or str\n",
      "        The column name or column position to be used as vertical\n",
      "        coordinates for each point.\n",
      "    s : str, scalar or array-like, optional\n",
      "        The size of each point. Possible values are:\n",
      "    \n",
      "        - A string with the name of the column to be used for marker's size.\n",
      "    \n",
      "        - A single scalar so all points have the same size.\n",
      "    \n",
      "        - A sequence of scalars, which will be used for each point's size\n",
      "          recursively. For instance, when passing [2,14] all points size\n",
      "          will be either 2 or 14, alternatively.\n",
      "    \n",
      "          .. versionchanged:: 1.1.0\n",
      "    \n",
      "    c : str, int or array-like, optional\n",
      "        The color of each point. Possible values are:\n",
      "    \n",
      "        - A single color string referred to by name, RGB or RGBA code,\n",
      "          for instance 'red' or '#a98d19'.\n",
      "    \n",
      "        - A sequence of color strings referred to by name, RGB or RGBA\n",
      "          code, which will be used for each point's color recursively. For\n",
      "          instance ['green','yellow'] all points will be filled in green or\n",
      "          yellow, alternatively.\n",
      "    \n",
      "        - A column name or position whose values will be used to color the\n",
      "          marker points according to a colormap.\n",
      "    \n",
      "    **kwargs\n",
      "        Keyword arguments to pass on to :meth:`DataFrame.plot`.\n",
      "    \n",
      "    Returns\n",
      "    -------\n",
      "    :class:`matplotlib.axes.Axes` or numpy.ndarray of them\n",
      "    \n",
      "    See Also\n",
      "    --------\n",
      "    matplotlib.pyplot.scatter : Scatter plot using multiple input data\n",
      "        formats.\n",
      "    \n",
      "    Examples\n",
      "    --------\n",
      "    Let's see how to draw a scatter plot using coordinates from the values\n",
      "    in a DataFrame's columns.\n",
      "    \n",
      "    .. plot::\n",
      "        :context: close-figs\n",
      "    \n",
      "        >>> df = pd.DataFrame([[5.1, 3.5, 0], [4.9, 3.0, 0], [7.0, 3.2, 1],\n",
      "        ...                    [6.4, 3.2, 1], [5.9, 3.0, 2]],\n",
      "        ...                   columns=['length', 'width', 'species'])\n",
      "        >>> ax1 = df.plot.scatter(x='length',\n",
      "        ...                       y='width',\n",
      "        ...                       c='DarkBlue')\n",
      "    \n",
      "    And now with the color determined by a column as well.\n",
      "    \n",
      "    .. plot::\n",
      "        :context: close-figs\n",
      "    \n",
      "        >>> ax2 = df.plot.scatter(x='length',\n",
      "        ...                       y='width',\n",
      "        ...                       c='species',\n",
      "        ...                       colormap='viridis')\n",
      "\n"
     ]
    }
   ],
   "source": [
    "help(df.plot.scatter)"
   ]
  },
  {
   "cell_type": "code",
   "execution_count": 103,
   "id": "dc4aceec-4839-4af9-95e9-d736ae58e2fe",
   "metadata": {},
   "outputs": [
    {
     "data": {
      "text/html": [
       "<div>\n",
       "<style scoped>\n",
       "    .dataframe tbody tr th:only-of-type {\n",
       "        vertical-align: middle;\n",
       "    }\n",
       "\n",
       "    .dataframe tbody tr th {\n",
       "        vertical-align: top;\n",
       "    }\n",
       "\n",
       "    .dataframe thead th {\n",
       "        text-align: right;\n",
       "    }\n",
       "</style>\n",
       "<table border=\"1\" class=\"dataframe\">\n",
       "  <thead>\n",
       "    <tr style=\"text-align: right;\">\n",
       "      <th></th>\n",
       "      <th>length</th>\n",
       "      <th>width</th>\n",
       "      <th>species</th>\n",
       "    </tr>\n",
       "  </thead>\n",
       "  <tbody>\n",
       "    <tr>\n",
       "      <th>0</th>\n",
       "      <td>5.1</td>\n",
       "      <td>3.5</td>\n",
       "      <td>0</td>\n",
       "    </tr>\n",
       "    <tr>\n",
       "      <th>1</th>\n",
       "      <td>4.9</td>\n",
       "      <td>3.0</td>\n",
       "      <td>0</td>\n",
       "    </tr>\n",
       "    <tr>\n",
       "      <th>2</th>\n",
       "      <td>7.0</td>\n",
       "      <td>3.2</td>\n",
       "      <td>1</td>\n",
       "    </tr>\n",
       "    <tr>\n",
       "      <th>3</th>\n",
       "      <td>6.4</td>\n",
       "      <td>3.2</td>\n",
       "      <td>1</td>\n",
       "    </tr>\n",
       "    <tr>\n",
       "      <th>4</th>\n",
       "      <td>5.9</td>\n",
       "      <td>3.0</td>\n",
       "      <td>2</td>\n",
       "    </tr>\n",
       "  </tbody>\n",
       "</table>\n",
       "</div>"
      ],
      "text/plain": [
       "   length  width  species\n",
       "0     5.1    3.5        0\n",
       "1     4.9    3.0        0\n",
       "2     7.0    3.2        1\n",
       "3     6.4    3.2        1\n",
       "4     5.9    3.0        2"
      ]
     },
     "execution_count": 103,
     "metadata": {},
     "output_type": "execute_result"
    }
   ],
   "source": [
    "df1 = pd.DataFrame([[5.1, 3.5, 0], [4.9, 3.0, 0], [7.0, 3.2, 1],\n",
    "                [6.4, 3.2, 1], [5.9, 3.0, 2]],              \n",
    "                columns=['length', 'width', 'species'])\n",
    "df1"
   ]
  },
  {
   "cell_type": "code",
   "execution_count": 140,
   "id": "78f4e1f4-aeac-461c-9a0e-aadd5d4b5690",
   "metadata": {},
   "outputs": [
    {
     "data": {
      "text/html": [
       "<div>\n",
       "<style scoped>\n",
       "    .dataframe tbody tr th:only-of-type {\n",
       "        vertical-align: middle;\n",
       "    }\n",
       "\n",
       "    .dataframe tbody tr th {\n",
       "        vertical-align: top;\n",
       "    }\n",
       "\n",
       "    .dataframe thead th {\n",
       "        text-align: right;\n",
       "    }\n",
       "</style>\n",
       "<table border=\"1\" class=\"dataframe\">\n",
       "  <thead>\n",
       "    <tr style=\"text-align: right;\">\n",
       "      <th></th>\n",
       "      <th>col1</th>\n",
       "      <th>col2</th>\n",
       "    </tr>\n",
       "    <tr>\n",
       "      <th>index</th>\n",
       "      <th></th>\n",
       "      <th></th>\n",
       "    </tr>\n",
       "  </thead>\n",
       "  <tbody>\n",
       "    <tr>\n",
       "      <th>0</th>\n",
       "      <td>0</td>\n",
       "      <td>2</td>\n",
       "    </tr>\n",
       "    <tr>\n",
       "      <th>1</th>\n",
       "      <td>1</td>\n",
       "      <td>3</td>\n",
       "    </tr>\n",
       "    <tr>\n",
       "      <th>2</th>\n",
       "      <td>2</td>\n",
       "      <td>4</td>\n",
       "    </tr>\n",
       "    <tr>\n",
       "      <th>3</th>\n",
       "      <td>3</td>\n",
       "      <td>6</td>\n",
       "    </tr>\n",
       "  </tbody>\n",
       "</table>\n",
       "</div>"
      ],
      "text/plain": [
       "       col1  col2\n",
       "index            \n",
       "0         0     2\n",
       "1         1     3\n",
       "2         2     4\n",
       "3         3     6"
      ]
     },
     "execution_count": 140,
     "metadata": {},
     "output_type": "execute_result"
    }
   ],
   "source": [
    "df2=pd.DataFrame({'col1': [0, 1, 2, 3], 'col2':[2, 3,4,6]})\n",
    "df2\n",
    "df2.loc[[0,1,2,3]]\n",
    "df2['index']=range(len(df2))\n",
    "df3=df2.set_index('index')\n",
    "df3"
   ]
  },
  {
   "cell_type": "code",
   "execution_count": 144,
   "id": "5849f5d9-ac3b-4582-99af-d75218d07fca",
   "metadata": {},
   "outputs": [
    {
     "data": {
      "text/html": [
       "<div>\n",
       "<style scoped>\n",
       "    .dataframe tbody tr th:only-of-type {\n",
       "        vertical-align: middle;\n",
       "    }\n",
       "\n",
       "    .dataframe tbody tr th {\n",
       "        vertical-align: top;\n",
       "    }\n",
       "\n",
       "    .dataframe thead th {\n",
       "        text-align: right;\n",
       "    }\n",
       "</style>\n",
       "<table border=\"1\" class=\"dataframe\">\n",
       "  <thead>\n",
       "    <tr style=\"text-align: right;\">\n",
       "      <th></th>\n",
       "      <th>col1</th>\n",
       "      <th>col2</th>\n",
       "    </tr>\n",
       "    <tr>\n",
       "      <th>index</th>\n",
       "      <th></th>\n",
       "      <th></th>\n",
       "    </tr>\n",
       "  </thead>\n",
       "  <tbody>\n",
       "    <tr>\n",
       "      <th>0</th>\n",
       "      <td>0</td>\n",
       "      <td>2</td>\n",
       "    </tr>\n",
       "    <tr>\n",
       "      <th>1</th>\n",
       "      <td>1</td>\n",
       "      <td>3</td>\n",
       "    </tr>\n",
       "    <tr>\n",
       "      <th>2</th>\n",
       "      <td>2</td>\n",
       "      <td>4</td>\n",
       "    </tr>\n",
       "    <tr>\n",
       "      <th>3</th>\n",
       "      <td>3</td>\n",
       "      <td>6</td>\n",
       "    </tr>\n",
       "  </tbody>\n",
       "</table>\n",
       "</div>"
      ],
      "text/plain": [
       "       col1  col2\n",
       "index            \n",
       "0         0     2\n",
       "1         1     3\n",
       "2         2     4\n",
       "3         3     6"
      ]
     },
     "execution_count": 144,
     "metadata": {},
     "output_type": "execute_result"
    }
   ],
   "source": [
    "df3.loc[0:3,['col1','col2']]"
   ]
  },
  {
   "cell_type": "code",
   "execution_count": 163,
   "id": "2eff102c-e83a-484b-9456-77a434e28b24",
   "metadata": {},
   "outputs": [
    {
     "data": {
      "text/html": [
       "<div>\n",
       "<style scoped>\n",
       "    .dataframe tbody tr th:only-of-type {\n",
       "        vertical-align: middle;\n",
       "    }\n",
       "\n",
       "    .dataframe tbody tr th {\n",
       "        vertical-align: top;\n",
       "    }\n",
       "\n",
       "    .dataframe thead th {\n",
       "        text-align: right;\n",
       "    }\n",
       "</style>\n",
       "<table border=\"1\" class=\"dataframe\">\n",
       "  <thead>\n",
       "    <tr style=\"text-align: right;\">\n",
       "      <th></th>\n",
       "      <th>col1</th>\n",
       "      <th>col2</th>\n",
       "    </tr>\n",
       "    <tr>\n",
       "      <th>index</th>\n",
       "      <th></th>\n",
       "      <th></th>\n",
       "    </tr>\n",
       "  </thead>\n",
       "  <tbody>\n",
       "    <tr>\n",
       "      <th>0</th>\n",
       "      <td>0</td>\n",
       "      <td>2</td>\n",
       "    </tr>\n",
       "    <tr>\n",
       "      <th>1</th>\n",
       "      <td>1</td>\n",
       "      <td>3</td>\n",
       "    </tr>\n",
       "    <tr>\n",
       "      <th>2</th>\n",
       "      <td>2</td>\n",
       "      <td>4</td>\n",
       "    </tr>\n",
       "    <tr>\n",
       "      <th>3</th>\n",
       "      <td>3</td>\n",
       "      <td>6</td>\n",
       "    </tr>\n",
       "  </tbody>\n",
       "</table>\n",
       "</div>"
      ],
      "text/plain": [
       "       col1  col2\n",
       "index            \n",
       "0         0     2\n",
       "1         1     3\n",
       "2         2     4\n",
       "3         3     6"
      ]
     },
     "execution_count": 163,
     "metadata": {},
     "output_type": "execute_result"
    }
   ],
   "source": [
    "df3.iloc[0:4,0:2]"
   ]
  }
 ],
 "metadata": {
  "kernelspec": {
   "display_name": "Python 3 (ipykernel)",
   "language": "python",
   "name": "python3"
  },
  "language_info": {
   "codemirror_mode": {
    "name": "ipython",
    "version": 3
   },
   "file_extension": ".py",
   "mimetype": "text/x-python",
   "name": "python",
   "nbconvert_exporter": "python",
   "pygments_lexer": "ipython3",
   "version": "3.10.5"
  }
 },
 "nbformat": 4,
 "nbformat_minor": 5
}
